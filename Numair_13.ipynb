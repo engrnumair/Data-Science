{
  "nbformat": 4,
  "nbformat_minor": 0,
  "metadata": {
    "colab": {
      "provenance": [],
      "include_colab_link": true
    },
    "kernelspec": {
      "name": "python3",
      "display_name": "Python 3"
    },
    "language_info": {
      "name": "python"
    }
  },
  "cells": [
    {
      "cell_type": "markdown",
      "metadata": {
        "id": "view-in-github",
        "colab_type": "text"
      },
      "source": [
        "<a href=\"https://colab.research.google.com/github/engrnumair/Data-Science/blob/main/Numair_13.ipynb\" target=\"_parent\"><img src=\"https://colab.research.google.com/assets/colab-badge.svg\" alt=\"Open In Colab\"/></a>"
      ]
    },
    {
      "cell_type": "markdown",
      "source": [
        "# **Assignment: Decision Tree Regression for Car Price Prediction**\n",
        "\n",
        "## **Objective**  \n",
        "Train and evaluate a **Decision Tree Regression model** to predict car prices based on various features such as mileage, engine size, horsepower, etc.\n",
        "\n",
        "---\n",
        "\n",
        "## **Dataset**  \n",
        "Download the **Car Price Prediction dataset** from Kaggle:  \n",
        "🔗 [Car Price Prediction Dataset](https://www.kaggle.com/datasets/hellbuoy/car-price-prediction)  \n",
        "\n",
        "- Load the dataset into a Pandas DataFrame.  \n",
        "- Display the first few rows to understand the structure.  \n",
        "\n",
        "---\n",
        "\n",
        "## **Tasks**  \n",
        "\n",
        "### **1. Data Preprocessing**  \n",
        "- Drop irrelevant columns such as \"Car_Name\" (if applicable).  \n",
        "- Handle missing values appropriately.  \n",
        "- Convert categorical features (e.g., fuel type, seller type) into numerical using **One-Hot Encoding** or **Label Encoding**.  \n",
        "- Normalize numerical features using **StandardScaler**.  \n",
        "- Split the dataset into **80% training and 20% testing**.  \n",
        "\n",
        "---\n",
        "\n",
        "### **2. Train Decision Tree Regression Model**  \n",
        "- Train a **Decision Tree Regressor** with default parameters.  \n",
        "- Evaluate its initial performance.  \n",
        "\n",
        "---\n",
        "\n",
        "### **3. Hyperparameter Tuning**  \n",
        "- Use **GridSearchCV** to tune the following hyperparameters:  \n",
        "  - `max_depth` (Limit the depth of the tree)  \n",
        "  - `min_samples_split` (Minimum samples required to split a node)  \n",
        "  - `min_samples_leaf` (Minimum samples required at a leaf node)  \n",
        "\n",
        "---\n",
        "\n",
        "### **4. Model Evaluation**  \n",
        "- Compute and print the following metrics for both the **default** and **tuned** models:  \n",
        "  - **Mean Squared Error (MSE)**  \n",
        "  - **Mean Absolute Error (MAE)**  \n",
        "  - **R² Score**  \n",
        "\n",
        "---\n",
        "\n",
        "### **5. Visualization**  \n",
        "- Plot **Actual vs. Predicted values** for the Decision Tree model.  \n",
        "- Plot a **feature importance graph** to analyze which features contribute the most to car price prediction.  \n",
        "\n",
        "---\n",
        "\n",
        "## **Submission Guidelines**  \n",
        "- Submit a **colab Notebook (.ipynb)** with code and visualizations.  \n"
      ],
      "metadata": {
        "id": "woazbPO7HTKe"
      }
    },
    {
      "cell_type": "code",
      "execution_count": null,
      "metadata": {
        "id": "3eZTGTMJHQyf"
      },
      "outputs": [],
      "source": []
    }
  ]
}